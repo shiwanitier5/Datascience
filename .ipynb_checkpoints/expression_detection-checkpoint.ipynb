{
 "cells": [
  {
   "cell_type": "markdown",
   "id": "afabb8b4",
   "metadata": {},
   "source": [
    "# Expressions Detection"
   ]
  },
  {
   "cell_type": "code",
   "execution_count": 1,
   "id": "3f462dcb",
   "metadata": {},
   "outputs": [],
   "source": [
    "#importing libraries"
   ]
  },
  {
   "cell_type": "code",
   "execution_count": 12,
   "id": "a78a966b",
   "metadata": {},
   "outputs": [],
   "source": [
    "import cv2"
   ]
  },
  {
   "cell_type": "code",
   "execution_count": null,
   "id": "db8081fa",
   "metadata": {},
   "outputs": [],
   "source": [
    "#loading cascades   this are feature as open cv library as to use those xml files to detect our motion of our face, smile and eye\n",
    "face_cascade = cv2.CascadeClassifier('face.xml')\n",
    "eye_cascade = cv2.CascadeClassifier('eye.xml')\n",
    "smile_cascade = cv2.CascadeClassifier('smile.xml')\n",
    "\n",
    "\n",
    "#make a recognition fucntion which will detect face eye and smile grayimage for black and white, colorimage means to put the color.\n",
    "\n",
    "def detect(grayimage, colorimage):\n",
    "    \n",
    "    #Face Detection\n",
    "    faces = face_cascade.detectMultiScale(grayimage,1.3,5)\n",
    "    for (x,y,w,h) in faces:\n",
    "\n",
    "        # to detect the rectange shape of our face as x and y are the cordinates also w and h are height and width and 255,0,0 as rgb color and 2 is thickness of that rectangle\n",
    "\n",
    "        cv2.rectangle(colorimage,(x,y),(x+w,y+h),(255,0,0),2)\n",
    "        roi_gray = colorimage[y:y+h,x:x+w]\n",
    "        roi_color = colorimage[y:y+h,x:x+w]    # roi is regoin of interest\n",
    "        \n",
    "        # same definitoion for eyes as we defined for face\n",
    "        #Eyes Detection\n",
    "        eyes = eye_cascade.detectMultiScale(roi_gray,1.1,22)\n",
    "        for (ex,ey,ew,eh) in eyes:\n",
    "            cv2.rectangle(roi_color,(ex,ey), (ex+ew, ey+eh), (0,255,0), 2)\n",
    "\n",
    "        # same definitoion for smile as we defined for face\n",
    "\n",
    "        #Smile Detection\n",
    "        smiles = smile_cascade.detectMultiScale(roi_gray,1.9,27)\n",
    "        for (sx,sy,sw,sh) in smiles:\n",
    "            cv2.rectangle(roi_color,(sx,sy), (sx+sw, sy+sh), (0,0,255),2)\n",
    "\n",
    "    return colorimage\n",
    "\n",
    "\n",
    "# reading real time image \n",
    "video_capture = cv2.VideoCapture(0)  # if using external webcam then use 1 or internal use 0\n",
    "while(True):\n",
    "    _,colorImg = video_capture.read()\n",
    "    gray_img = cv2.cvtColor(colorImg,cv2.COLOR_RGB2GRAY)     # cvt color means convert color \n",
    "    result = detect(gray_img,colorImg)\n",
    "    cv2.imshow('Video', result)    # to turn on my camera \n",
    "\n",
    "    # just to exit from loop\n",
    "    if cv2.waitKey(1) & 0xff==ord('x'):\n",
    "        break\n",
    "video_capture.release()      # to detect whatever vatiables we passed from there \n",
    "cv2.destroyAllWindows()      # to destroy everything from windows the video or cam that runs"
   ]
  },
  {
   "cell_type": "code",
   "execution_count": 7,
   "id": "74d6996e",
   "metadata": {},
   "outputs": [],
   "source": []
  },
  {
   "cell_type": "code",
   "execution_count": 8,
   "id": "7e5b7f62",
   "metadata": {},
   "outputs": [],
   "source": []
  },
  {
   "cell_type": "code",
   "execution_count": 11,
   "id": "a118d29b",
   "metadata": {},
   "outputs": [],
   "source": [
    "\n",
    "\n",
    "\n"
   ]
  },
  {
   "cell_type": "code",
   "execution_count": null,
   "id": "9771ad46",
   "metadata": {},
   "outputs": [],
   "source": []
  }
 ],
 "metadata": {
  "kernelspec": {
   "display_name": "Python 3",
   "language": "python",
   "name": "python3"
  },
  "language_info": {
   "codemirror_mode": {
    "name": "ipython",
    "version": 3
   },
   "file_extension": ".py",
   "mimetype": "text/x-python",
   "name": "python",
   "nbconvert_exporter": "python",
   "pygments_lexer": "ipython3",
   "version": "3.8.8"
  }
 },
 "nbformat": 4,
 "nbformat_minor": 5
}
